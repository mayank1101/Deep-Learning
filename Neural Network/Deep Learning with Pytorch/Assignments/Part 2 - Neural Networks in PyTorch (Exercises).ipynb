{
 "cells": [
  {
   "cell_type": "markdown",
   "metadata": {},
   "source": [
    "# Neural networks with PyTorch\n",
    "\n",
    "Deep learning networks tend to be massive with dozens or hundreds of layers, that's where the term \"deep\" comes from. You can build one of these deep networks using only weight matrices as we did in the previous notebook, but in general it's very cumbersome and difficult to implement. PyTorch has a nice module `nn` that provides a nice way to efficiently build large neural networks."
   ]
  },
  {
   "cell_type": "code",
   "execution_count": 1,
   "metadata": {},
   "outputs": [],
   "source": [
    "# Import necessary packages\n",
    "\n",
    "%matplotlib inline\n",
    "%config InlineBackend.figure_format = 'retina'\n",
    "\n",
    "import numpy as np\n",
    "import torch\n",
    "\n",
    "import helper\n",
    "\n",
    "import matplotlib.pyplot as plt"
   ]
  },
  {
   "cell_type": "markdown",
   "metadata": {},
   "source": [
    "\n",
    "Now we're going to build a larger network that can solve a (formerly) difficult problem, identifying text in an image. Here we'll use the MNIST dataset which consists of greyscale handwritten digits. Each image is 28x28 pixels, you can see a sample below\n",
    "\n",
    "<img src='assets/mnist.png'>\n",
    "\n",
    "Our goal is to build a neural network that can take one of these images and predict the digit in the image.\n",
    "\n",
    "First up, we need to get our dataset. This is provided through the `torchvision` package. The code below will download the MNIST dataset, then create training and test datasets for us. Don't worry too much about the details here, you'll learn more about this later."
   ]
  },
  {
   "cell_type": "code",
   "execution_count": 2,
   "metadata": {},
   "outputs": [
    {
     "name": "stdout",
     "output_type": "stream",
     "text": [
      "Downloading http://yann.lecun.com/exdb/mnist/train-images-idx3-ubyte.gz\n",
      "Downloading http://yann.lecun.com/exdb/mnist/train-labels-idx1-ubyte.gz\n",
      "Downloading http://yann.lecun.com/exdb/mnist/t10k-images-idx3-ubyte.gz\n",
      "Downloading http://yann.lecun.com/exdb/mnist/t10k-labels-idx1-ubyte.gz\n",
      "Processing...\n",
      "Done!\n"
     ]
    }
   ],
   "source": [
    "### Run this cell\n",
    "\n",
    "from torchvision import datasets, transforms\n",
    "\n",
    "# Define a transform to normalize the data\n",
    "transform = transforms.Compose([transforms.ToTensor(),\n",
    "                              transforms.Normalize((0.5,), (0.5,)),\n",
    "                              ])\n",
    "\n",
    "# Download and load the training data\n",
    "trainset = datasets.MNIST('~/.pytorch/MNIST_data/', download=True, train=True, transform=transform)\n",
    "trainloader = torch.utils.data.DataLoader(trainset, batch_size=64, shuffle=True)"
   ]
  },
  {
   "cell_type": "markdown",
   "metadata": {},
   "source": [
    "We have the training data loaded into `trainloader` and we make that an iterator with `iter(trainloader)`. Later, we'll use this to loop through the dataset for training, like\n",
    "\n",
    "```python\n",
    "for image, label in trainloader:\n",
    "    ## do things with images and labels\n",
    "```\n",
    "\n",
    "You'll notice I created the `trainloader` with a batch size of 64, and `shuffle=True`. The batch size is the number of images we get in one iteration from the data loader and pass through our network, often called a *batch*. And `shuffle=True` tells it to shuffle the dataset every time we start going through the data loader again. But here I'm just grabbing the first batch so we can check out the data. We can see below that `images` is just a tensor with size `(64, 1, 28, 28)`. So, 64 images per batch, 1 color channel, and 28x28 images."
   ]
  },
  {
   "cell_type": "code",
   "execution_count": 3,
   "metadata": {},
   "outputs": [
    {
     "name": "stdout",
     "output_type": "stream",
     "text": [
      "<class 'torch.Tensor'>\n",
      "torch.Size([64, 1, 28, 28])\n",
      "torch.Size([64])\n"
     ]
    }
   ],
   "source": [
    "dataiter = iter(trainloader)\n",
    "images, labels = dataiter.next()\n",
    "print(type(images))\n",
    "print(images.shape)\n",
    "print(labels.shape)"
   ]
  },
  {
   "cell_type": "markdown",
   "metadata": {},
   "source": [
    "This is what one of the images looks like. "
   ]
  },
  {
   "cell_type": "code",
   "execution_count": 4,
   "metadata": {},
   "outputs": [
    {
     "data": {
      "image/png": "[encoded data removed]",
      "text/plain": [
       "<matplotlib.figure.Figure at 0x7f9a96c36908>"
      ]
     },
     "metadata": {
      "image/png": {
       "height": 250,
       "width": 253
      },
      "needs_background": "light"
     },
     "output_type": "display_data"
    }
   ],
   "source": [
    "plt.imshow(images[1].numpy().squeeze(), cmap='Greys_r');"
   ]
  },
  {
   "cell_type": "markdown",
   "metadata": {},
   "source": [
    "First, let's try to build a simple network for this dataset using weight matrices and matrix multiplications. Then, we'll see how to do it using PyTorch's `nn` module which provides a much more convenient and powerful method for defining network architectures.\n",
    "\n",
    "The networks you've seen so far are called *fully-connected* or *dense* networks. Each unit in one layer is connected to each unit in the next layer. In fully-connected networks, the input to each layer must be a one-dimensional vector (which can be stacked into a 2D tensor as a batch of multiple examples). However, our images are 28x28 2D tensors, so we need to convert them into 1D vectors. Thinking about sizes, we need to convert the batch of images with shape `(64, 1, 28, 28)` to a have a shape of `(64, 784)`, 784 is 28 times 28. This is typically called *flattening*, we flattened the 2D images into 1D vectors.\n",
    "\n",
    "Previously you built a network with one output unit. Here we need 10 output units, one for each digit. We want our network to predict the digit shown in an image, so what we'll do is calculate probabilities that the image is of any one digit or class. This ends up being a discrete probability distribution over the classes (digits) that tells us the most likely class for the image. That means we need 10 output units for the 10 classes (digits). We'll see how to convert the network output into a probability distribution next.\n",
    "\n",
    "> **Exercise:** Flatten the batch of images `images`. Then build a multi-layer network with 784 input units, 256 hidden units, and 10 output units using random tensors for the weights and biases. For now, use a sigmoid activation for the hidden layer. Leave the output layer without an activation, we'll add one that gives us a probability distribution next."
   ]
  },
  {
   "cell_type": "code",
   "execution_count": 10,
   "metadata": {},
   "outputs": [
    {
     "name": "stdout",
     "output_type": "stream",
     "text": [
      "tensor([[ 9.9424e-01,  1.0151e-04,  9.2583e-01,  9.9970e-01,  9.9971e-01,\n",
      "          1.2179e-02,  1.0281e-01,  8.2967e-02,  9.9999e-01,  1.0000e+00],\n",
      "        [ 9.9996e-01,  1.4176e-02,  9.9262e-01,  9.9214e-01,  5.3859e-02,\n",
      "          6.6785e-01,  9.9978e-01,  7.9595e-01,  7.8485e-01,  1.0000e+00],\n",
      "        [ 9.9299e-01,  6.0364e-06,  9.9989e-01,  9.9998e-01,  7.1214e-01,\n",
      "          1.0436e-06,  7.7483e-01,  8.2118e-01,  1.0000e+00,  9.9982e-01],\n",
      "        [ 1.0000e+00,  8.3494e-08,  5.1190e-03,  9.9995e-01,  6.2231e-02,\n",
      "          1.6453e-01,  1.0340e-01,  9.1699e-01,  9.9998e-01,  9.9999e-01],\n",
      "        [ 1.0000e+00,  1.0071e-01,  7.2429e-01,  1.1681e-04,  1.4363e-01,\n",
      "          2.5940e-03,  1.0734e-03,  1.1050e-01,  9.9998e-01,  1.0000e+00],\n",
      "        [ 1.0000e+00,  2.9048e-02,  1.6232e-03,  9.9948e-01,  1.0421e-02,\n",
      "          8.4092e-02,  4.3854e-05,  9.0872e-01,  9.9153e-01,  9.9972e-01],\n",
      "        [ 6.3975e-01,  2.5429e-01,  9.9997e-01,  9.9754e-01,  9.9993e-01,\n",
      "          1.7872e-01,  4.0468e-05,  3.3905e-03,  9.9998e-01,  1.0000e+00],\n",
      "        [ 9.9972e-01,  8.5986e-01,  1.2711e-01,  9.9972e-01,  6.7943e-01,\n",
      "          4.1645e-01,  1.6643e-05,  3.7259e-02,  9.9871e-01,  9.9191e-01],\n",
      "        [ 8.2765e-01,  9.9806e-01,  9.9938e-01,  1.0000e+00,  5.7783e-03,\n",
      "          7.4775e-02,  2.9968e-07,  2.2776e-03,  1.0000e+00,  9.9847e-01],\n",
      "        [ 1.0000e+00,  2.4139e-01,  9.5970e-01,  9.9985e-01,  1.3831e-01,\n",
      "          5.7810e-01,  9.7940e-02,  4.0963e-01,  9.9952e-01,  9.9906e-01],\n",
      "        [ 1.0000e+00,  9.0211e-02,  3.2185e-02,  9.9998e-01,  2.8437e-01,\n",
      "          3.0739e-04,  2.3094e-02,  9.3674e-01,  3.9936e-01,  9.9397e-01],\n",
      "        [ 1.0000e+00,  3.0337e-04,  9.9883e-01,  7.5744e-01,  3.7829e-03,\n",
      "          9.9972e-01,  6.5624e-03,  1.0194e-01,  1.0000e+00,  1.0000e+00],\n",
      "        [ 9.3666e-01,  1.3472e-01,  9.9980e-01,  9.9420e-01,  6.3945e-02,\n",
      "          1.1272e-01,  5.8250e-08,  8.9463e-04,  9.9997e-01,  9.9998e-01],\n",
      "        [ 9.9999e-01,  7.8506e-05,  2.0947e-01,  1.0813e-01,  2.6407e-02,\n",
      "          3.7372e-02,  5.0239e-02,  6.5888e-01,  9.9951e-01,  1.0000e+00],\n",
      "        [ 9.9999e-01,  9.5462e-01,  9.9999e-01,  9.9999e-01,  1.3192e-01,\n",
      "          2.8475e-02,  1.0672e-02,  2.3430e-04,  1.0000e+00,  1.0000e+00],\n",
      "        [ 9.3361e-01,  1.1664e-04,  9.9968e-01,  2.6935e-02,  3.2184e-01,\n",
      "          8.8230e-01,  9.6034e-01,  8.1354e-01,  9.9911e-01,  9.9990e-01],\n",
      "        [ 1.0000e+00,  2.1743e-01,  2.9036e-02,  9.8600e-01,  1.0450e-04,\n",
      "          9.9910e-01,  3.6735e-01,  9.9906e-01,  1.0000e+00,  1.0000e+00],\n",
      "        [ 9.9936e-01,  7.2900e-06,  9.9999e-01,  7.5028e-01,  5.5343e-01,\n",
      "          9.9735e-01,  6.4804e-01,  4.2828e-01,  9.5987e-01,  9.9983e-01],\n",
      "        [ 9.8566e-01,  9.1617e-01,  9.9999e-01,  9.9946e-01,  5.8598e-01,\n",
      "          9.2541e-01,  9.9886e-01,  1.8428e-01,  8.4871e-01,  1.0000e+00],\n",
      "        [ 1.0000e+00,  4.5134e-03,  2.2841e-01,  9.9928e-01,  1.0434e-01,\n",
      "          1.3730e-01,  1.7077e-02,  2.4371e-01,  9.9574e-01,  9.6574e-01],\n",
      "        [ 1.0000e+00,  3.0490e-08,  2.5593e-01,  9.9898e-01,  8.2275e-01,\n",
      "          1.4820e-02,  9.4260e-01,  2.9771e-01,  9.9998e-01,  9.9856e-01],\n",
      "        [ 3.1249e-02,  8.4151e-02,  9.9977e-01,  3.3564e-03,  9.9904e-01,\n",
      "          3.0381e-02,  9.7394e-04,  4.3397e-04,  9.9892e-01,  1.0000e+00],\n",
      "        [ 9.9997e-01,  7.9013e-02,  9.9999e-01,  6.3270e-03,  9.9933e-01,\n",
      "          4.4860e-01,  1.3170e-03,  9.5376e-01,  8.7911e-01,  9.9999e-01],\n",
      "        [ 9.9996e-01,  2.4397e-01,  2.4578e-01,  1.0000e+00,  1.6856e-01,\n",
      "          6.7736e-01,  1.0608e-03,  6.3858e-04,  9.9999e-01,  1.0000e+00],\n",
      "        [ 9.9957e-01,  9.9896e-01,  9.9993e-01,  9.9999e-01,  8.9335e-03,\n",
      "          4.5532e-04,  5.3176e-05,  8.3477e-02,  9.9996e-01,  1.0000e+00],\n",
      "        [ 9.6381e-01,  9.5553e-01,  9.9550e-01,  1.0000e+00,  1.8271e-04,\n",
      "          1.4723e-03,  6.8495e-04,  3.7956e-01,  9.9996e-01,  9.9976e-01],\n",
      "        [ 9.9968e-01,  8.6470e-04,  1.0000e+00,  9.9703e-01,  2.6866e-03,\n",
      "          1.4006e-02,  6.5885e-05,  1.1406e-04,  1.0000e+00,  1.0000e+00],\n",
      "        [ 1.0000e+00,  1.4840e-06,  6.0315e-01,  9.9929e-01,  6.2074e-02,\n",
      "          9.9920e-01,  1.5194e-03,  9.9956e-01,  9.9992e-01,  9.9995e-01],\n",
      "        [ 1.0000e+00,  1.9972e-03,  9.9998e-01,  6.7440e-01,  1.4663e-03,\n",
      "          9.8218e-01,  7.1328e-02,  9.9737e-01,  9.9999e-01,  9.9999e-01],\n",
      "        [ 9.9915e-01,  8.9724e-01,  9.9999e-01,  9.9966e-01,  1.2713e-03,\n",
      "          1.5555e-02,  4.6406e-06,  5.4457e-01,  9.3458e-01,  1.0000e+00],\n",
      "        [ 9.3377e-01,  1.6957e-01,  9.6330e-01,  1.0000e+00,  8.4526e-04,\n",
      "          2.1810e-02,  8.0768e-06,  1.3424e-05,  9.9998e-01,  9.9861e-01],\n",
      "        [ 1.0000e+00,  2.0058e-02,  4.2123e-05,  9.0725e-01,  9.5884e-01,\n",
      "          9.5951e-01,  9.9857e-01,  1.9214e-01,  9.9952e-01,  1.0000e+00],\n",
      "        [ 1.0000e+00,  6.1233e-03,  3.1022e-03,  5.8049e-01,  9.9951e-01,\n",
      "          7.6298e-01,  9.9674e-01,  5.6733e-02,  9.9966e-01,  9.9988e-01],\n",
      "        [ 1.0000e+00,  3.7965e-02,  7.7089e-01,  7.7689e-01,  1.6433e-03,\n",
      "          2.8204e-07,  5.0075e-06,  1.2788e-03,  9.9985e-01,  1.0000e+00],\n",
      "        [ 9.9904e-01,  7.1972e-04,  9.9882e-01,  9.6144e-01,  8.8252e-01,\n",
      "          9.9070e-01,  5.5640e-03,  1.1597e-01,  9.5612e-01,  1.0000e+00],\n",
      "        [ 1.0000e+00,  2.0771e-03,  9.9825e-01,  9.9972e-01,  4.2561e-03,\n",
      "          9.5873e-01,  1.2108e-03,  6.9691e-01,  1.0000e+00,  1.0000e+00],\n",
      "        [ 1.0000e+00,  2.6101e-01,  8.3804e-01,  8.2672e-01,  9.9915e-01,\n",
      "          2.1942e-01,  9.5012e-01,  9.9497e-01,  9.9932e-01,  9.9733e-01],\n",
      "        [ 9.9998e-01,  2.9779e-02,  9.7700e-01,  9.9977e-01,  1.0376e-04,\n",
      "          2.4506e-03,  1.3918e-04,  5.5392e-01,  9.1317e-01,  1.0000e+00],\n",
      "        [ 9.9992e-01,  2.6555e-02,  5.5738e-01,  9.9241e-01,  5.5777e-01,\n",
      "          1.3115e-06,  5.4731e-01,  4.0536e-04,  9.9999e-01,  9.9924e-01],\n",
      "        [ 1.0000e+00,  2.9369e-07,  6.4998e-01,  9.7583e-01,  1.3965e-02,\n",
      "          3.4866e-04,  9.7180e-01,  9.8164e-01,  8.5463e-01,  9.9994e-01],\n",
      "        [ 9.9990e-01,  8.6856e-03,  9.8242e-01,  9.9832e-01,  9.9666e-01,\n",
      "          9.1417e-03,  9.3162e-01,  1.6864e-02,  9.9526e-01,  8.6140e-01],\n",
      "        [ 1.0000e+00,  8.8210e-07,  4.2002e-01,  1.5450e-02,  2.1679e-02,\n",
      "          4.8926e-01,  2.2517e-03,  9.9233e-01,  1.0000e+00,  9.9995e-01],\n",
      "        [ 9.9951e-01,  3.9474e-05,  5.0735e-01,  9.5340e-01,  9.5610e-03,\n",
      "          6.6874e-01,  2.1964e-07,  2.2544e-01,  1.0000e+00,  9.9215e-01],\n",
      "        [ 1.0000e+00,  1.0527e-01,  1.6500e-01,  1.1691e-01,  9.7715e-01,\n",
      "          9.9962e-01,  6.6187e-02,  4.2395e-01,  9.9998e-01,  9.8831e-01],\n",
      "        [ 1.0000e+00,  1.0080e-05,  9.9956e-01,  9.9903e-01,  6.3867e-01,\n",
      "          2.1449e-03,  4.6125e-01,  7.2333e-02,  5.8195e-01,  1.0000e+00],\n",
      "        [ 1.0000e+00,  2.6777e-06,  9.9435e-01,  9.9946e-01,  2.2945e-03,\n",
      "          8.9535e-01,  4.0434e-01,  9.9987e-01,  1.8191e-01,  9.9990e-01],\n",
      "        [ 9.9993e-01,  6.3303e-02,  6.9619e-01,  5.1989e-01,  7.0388e-01,\n",
      "          2.3514e-01,  2.3454e-01,  2.2966e-01,  9.5260e-04,  1.0000e+00],\n",
      "        [ 9.9978e-01,  3.4916e-02,  9.7192e-01,  9.9595e-01,  1.6609e-01,\n",
      "          6.1972e-03,  8.7983e-07,  9.8028e-01,  9.3298e-01,  9.9996e-01],\n",
      "        [ 9.9941e-01,  2.9282e-04,  9.9829e-01,  9.9992e-01,  3.8377e-01,\n",
      "          5.1444e-01,  9.2422e-01,  9.0614e-01,  9.6128e-01,  9.1576e-01],\n",
      "        [ 1.0000e+00,  5.9684e-01,  9.2076e-01,  9.9304e-01,  9.5794e-01,\n",
      "          3.3036e-01,  5.2290e-03,  4.4598e-02,  9.9997e-01,  9.9814e-01],\n",
      "        [ 1.0000e+00,  1.4176e-04,  4.2705e-03,  9.9796e-01,  3.4873e-05,\n",
      "          5.7214e-01,  4.3298e-01,  9.9769e-01,  9.9989e-01,  9.9999e-01],\n",
      "        [ 9.9999e-01,  3.5910e-02,  1.8961e-01,  1.2293e-01,  1.4388e-06,\n",
      "          2.6260e-01,  9.1340e-03,  9.7732e-01,  1.0000e+00,  9.9999e-01],\n",
      "        [ 9.9941e-01,  7.3756e-01,  1.3796e-01,  2.0157e-03,  9.9950e-01,\n",
      "          8.9407e-05,  2.5602e-06,  1.4475e-03,  9.9999e-01,  9.9996e-01],\n",
      "        [ 9.9999e-01,  2.4085e-03,  8.1157e-01,  9.3465e-01,  7.4537e-03,\n",
      "          6.6564e-01,  7.0739e-04,  9.7658e-01,  1.0000e+00,  9.9005e-01],\n",
      "        [ 1.0000e+00,  3.6083e-04,  8.2009e-01,  9.9996e-01,  3.2620e-03,\n",
      "          1.0069e-04,  1.1606e-06,  8.9555e-01,  9.9665e-01,  9.9999e-01],\n",
      "        [ 9.9983e-01,  4.2331e-03,  2.5805e-03,  9.9833e-01,  9.9372e-01,\n",
      "          2.4257e-02,  9.2131e-04,  9.4477e-01,  9.9988e-01,  9.8631e-01],\n",
      "        [ 9.9999e-01,  1.3982e-01,  9.9837e-01,  2.2979e-02,  9.9590e-01,\n",
      "          4.1679e-02,  3.0012e-05,  4.3659e-04,  8.1393e-01,  1.0000e+00],\n",
      "        [ 9.9885e-01,  7.3491e-02,  9.3591e-01,  9.3881e-02,  1.5593e-01,\n",
      "          5.2487e-06,  9.8588e-01,  9.9976e-01,  8.2260e-01,  1.0000e+00],\n",
      "        [ 1.0000e+00,  2.5719e-01,  1.2568e-02,  6.8405e-01,  9.8092e-02,\n",
      "          9.4408e-01,  7.6794e-02,  6.1769e-01,  9.9967e-01,  9.9798e-01],\n",
      "        [ 1.0000e+00,  1.9950e-01,  4.0669e-01,  9.8903e-01,  1.2220e-02,\n",
      "          3.6474e-02,  1.4186e-04,  2.1767e-01,  9.9783e-01,  9.9873e-01],\n",
      "        [ 1.0000e+00,  7.5285e-05,  7.6683e-01,  7.9361e-01,  6.4721e-01,\n",
      "          9.5821e-01,  2.1714e-04,  8.4267e-02,  9.9989e-01,  1.0000e+00],\n",
      "        [ 9.9992e-01,  5.9831e-03,  6.2671e-01,  9.0609e-01,  9.7909e-01,\n",
      "          3.0435e-01,  1.7489e-01,  1.0326e-01,  7.2645e-03,  9.7143e-01],\n",
      "        [ 1.0000e+00,  6.6353e-03,  9.6732e-01,  9.8115e-01,  6.9226e-01,\n",
      "          3.0500e-02,  8.5594e-03,  9.3719e-01,  9.6857e-01,  9.9999e-01],\n",
      "        [ 7.7863e-01,  2.4484e-03,  1.0000e+00,  9.9990e-01,  9.5435e-01,\n",
      "          1.3920e-04,  3.3724e-02,  1.5580e-02,  9.9997e-01,  1.0000e+00]])\n"
     ]
    }
   ],
   "source": [
    "## Your solution\n",
    "def activation(x):\n",
    "    return 1/(1 + torch.exp(-x))\n",
    "\n",
    "inputs = images.view(images.shape[0], -1) #flatten the images\n",
    "weights_i_h = torch.randn(784, 256)\n",
    "bias_i_h = torch.randn(256)\n",
    "\n",
    "weights_h_o = torch.randn(256,10)\n",
    "bias_h_o = torch.randn(10)\n",
    "\n",
    "hidden_ouput = activation(torch.mm(inputs, weights_i_h) + bias_i_h)\n",
    "\n",
    "out = activation(torch.mm(hidden_ouput, weights_h_o) + bias_h_o) # output of your network, should have shape (64,10)\n",
    "print(out)"
   ]
  },
  {
   "cell_type": "markdown",
   "metadata": {},
   "source": [
    "Now we have 10 outputs for our network. We want to pass in an image to our network and get out a probability distribution over the classes that tells us the likely class(es) the image belongs to. Something that looks like this:\n",
    "<img src='assets/image_distribution.png' width=500px>\n",
    "\n",
    "Here we see that the probability for each class is roughly the same. This is representing an untrained network, it hasn't seen any data yet so it just returns a uniform distribution with equal probabilities for each class.\n",
    "\n",
    "To calculate this probability distribution, we often use the [**softmax** function](https://en.wikipedia.org/wiki/Softmax_function). Mathematically this looks like\n",
    "\n",
    "$$\n",
    "\\Large \\sigma(x_i) = \\cfrac{e^{x_i}}{\\sum_k^K{e^{x_k}}}\n",
    "$$\n",
    "\n",
    "What this does is squish each input $x_i$ between 0 and 1 and normalizes the values to give you a proper probability distribution where the probabilites sum up to one.\n",
    "\n",
    "> **Exercise:** Implement a function `softmax` that performs the softmax calculation and returns probability distributions for each example in the batch. Note that you'll need to pay attention to the shapes when doing this. If you have a tensor `a` with shape `(64, 10)` and a tensor `b` with shape `(64,)`, doing `a/b` will give you an error because PyTorch will try to do the division across the columns (called broadcasting) but you'll get a size mismatch. The way to think about this is for each of the 64 examples, you only want to divide by one value, the sum in the denominator. So you need `b` to have a shape of `(64, 1)`. This way PyTorch will divide the 10 values in each row of `a` by the one value in each row of `b`. Pay attention to how you take the sum as well. You'll need to define the `dim` keyword in `torch.sum`. Setting `dim=0` takes the sum across the rows while `dim=1` takes the sum across the columns."
   ]
  },
  {
   "cell_type": "code",
   "execution_count": 13,
   "metadata": {},
   "outputs": [
    {
     "name": "stdout",
     "output_type": "stream",
     "text": [
      "torch.Size([64, 10])\n",
      "tensor([ 1.0000,  1.0000,  1.0000,  1.0000,  1.0000,  1.0000,  1.0000,\n",
      "         1.0000,  1.0000,  1.0000,  1.0000,  1.0000,  1.0000,  1.0000,\n",
      "         1.0000,  1.0000,  1.0000,  1.0000,  1.0000,  1.0000,  1.0000,\n",
      "         1.0000,  1.0000,  1.0000,  1.0000,  1.0000,  1.0000,  1.0000,\n",
      "         1.0000,  1.0000,  1.0000,  1.0000,  1.0000,  1.0000,  1.0000,\n",
      "         1.0000,  1.0000,  1.0000,  1.0000,  1.0000,  1.0000,  1.0000,\n",
      "         1.0000,  1.0000,  1.0000,  1.0000,  1.0000,  1.0000,  1.0000,\n",
      "         1.0000,  1.0000,  1.0000,  1.0000,  1.0000,  1.0000,  1.0000,\n",
      "         1.0000,  1.0000,  1.0000,  1.0000,  1.0000,  1.0000,  1.0000,\n",
      "         1.0000])\n"
     ]
    }
   ],
   "source": [
    "def softmax(x):\n",
    "    ## TODO: Implement the softmax function here\n",
    "    return torch.exp(x)/torch.sum(torch.exp(x), dim=1).view(-1,1) # (64x10)/(64x1) divide each element by corresponding row\n",
    "\n",
    "# Here, out should be the output of the network in the previous excercise with shape (64,10)\n",
    "probabilities = softmax(out)\n",
    "\n",
    "# Does it have the right shape? Should be (64, 10)\n",
    "print(probabilities.shape)\n",
    "# Does it sum to 1?\n",
    "print(probabilities.sum(dim=1))"
   ]
  },
  {
   "cell_type": "markdown",
   "metadata": {},
   "source": [
    "## Building networks with PyTorch\n",
    "\n",
    "PyTorch provides a module `nn` that makes building networks much simpler. Here I'll show you how to build the same one as above with 784 inputs, 256 hidden units, 10 output units and a softmax output."
   ]
  },
  {
   "cell_type": "code",
   "execution_count": 28,
   "metadata": {},
   "outputs": [],
   "source": [
    "from torch import nn"
   ]
  },
  {
   "cell_type": "code",
   "execution_count": 29,
   "metadata": {},
   "outputs": [],
   "source": [
    "class Network(nn.Module):\n",
    "    def __init__(self):\n",
    "        super().__init__()\n",
    "        \n",
    "        # Inputs to hidden layer linear transformation\n",
    "        self.hidden = nn.Linear(784, 256)\n",
    "        # Output layer, 10 units - one for each digit\n",
    "        self.output = nn.Linear(256, 10)\n",
    "        \n",
    "        # Define sigmoid activation and softmax output \n",
    "        self.sigmoid = nn.Sigmoid()\n",
    "        self.softmax = nn.Softmax(dim=1)\n",
    "        \n",
    "    def forward(self, x):\n",
    "        # Pass the input tensor through each of our operations\n",
    "        x = self.hidden(x)\n",
    "        x = self.sigmoid(x)\n",
    "        x = self.output(x)\n",
    "        x = self.softmax(x)\n",
    "        \n",
    "        return x"
   ]
  },
  {
   "cell_type": "markdown",
   "metadata": {},
   "source": [
    "Let's go through this bit by bit.\n",
    "\n",
    "```python\n",
    "class Network(nn.Module):\n",
    "```\n",
    "\n",
    "Here we're inheriting from `nn.Module`. Combined with `super().__init__()` this creates a class that tracks the architecture and provides a lot of useful methods and attributes. It is mandatory to inherit from `nn.Module` when you're creating a class for your network. The name of the class itself can be anything.\n",
    "\n",
    "```python\n",
    "self.hidden = nn.Linear(784, 256)\n",
    "```\n",
    "\n",
    "This line creates a module for a linear transformation, $x\\mathbf{W} + b$, with 784 inputs and 256 outputs and assigns it to `self.hidden`. The module automatically creates the weight and bias tensors which we'll use in the `forward` method. You can access the weight and bias tensors once the network (`net`) is created with `net.hidden.weight` and `net.hidden.bias`.\n",
    "\n",
    "```python\n",
    "self.output = nn.Linear(256, 10)\n",
    "```\n",
    "\n",
    "Similarly, this creates another linear transformation with 256 inputs and 10 outputs.\n",
    "\n",
    "```python\n",
    "self.sigmoid = nn.Sigmoid()\n",
    "self.softmax = nn.Softmax(dim=1)\n",
    "```\n",
    "\n",
    "Here I defined operations for the sigmoid activation and softmax output. Setting `dim=1` in `nn.Softmax(dim=1)` calculates softmax across the columns.\n",
    "\n",
    "```python\n",
    "def forward(self, x):\n",
    "```\n",
    "\n",
    "PyTorch networks created with `nn.Module` must have a `forward` method defined. It takes in a tensor `x` and passes it through the operations you defined in the `__init__` method.\n",
    "\n",
    "```python\n",
    "x = self.hidden(x)\n",
    "x = self.sigmoid(x)\n",
    "x = self.output(x)\n",
    "x = self.softmax(x)\n",
    "```\n",
    "\n",
    "Here the input tensor `x` is passed through each operation a reassigned to `x`. We can see that the input tensor goes through the hidden layer, then a sigmoid function, then the output layer, and finally the softmax function. It doesn't matter what you name the variables here, as long as the inputs and outputs of the operations match the network architecture you want to build. The order in which you define things in the `__init__` method doesn't matter, but you'll need to sequence the operations correctly in the `forward` method.\n",
    "\n",
    "Now we can create a `Network` object."
   ]
  },
  {
   "cell_type": "code",
   "execution_count": 30,
   "metadata": {},
   "outputs": [
    {
     "data": {
      "text/plain": [
       "Network(\n",
       "  (hidden): Linear(in_features=784, out_features=256, bias=True)\n",
       "  (output): Linear(in_features=256, out_features=10, bias=True)\n",
       "  (sigmoid): Sigmoid()\n",
       "  (softmax): Softmax()\n",
       ")"
      ]
     },
     "execution_count": 30,
     "metadata": {},
     "output_type": "execute_result"
    }
   ],
   "source": [
    "# Create the network and look at it's text representation\n",
    "model = Network()\n",
    "model"
   ]
  },
  {
   "cell_type": "markdown",
   "metadata": {},
   "source": [
    "You can define the network somewhat more concisely and clearly using the `torch.nn.functional` module. This is the most common way you'll see networks defined as many operations are simple element-wise functions. We normally import this module as `F`, `import torch.nn.functional as F`."
   ]
  },
  {
   "cell_type": "code",
   "execution_count": 31,
   "metadata": {},
   "outputs": [],
   "source": [
    "import torch.nn.functional as F\n",
    "\n",
    "class Network(nn.Module):\n",
    "    def __init__(self):\n",
    "        super().__init__()\n",
    "        # Inputs to hidden layer linear transformation\n",
    "        self.hidden = nn.Linear(784, 256)\n",
    "        # Output layer, 10 units - one for each digit\n",
    "        self.output = nn.Linear(256, 10)\n",
    "        \n",
    "    def forward(self, x):\n",
    "        # Hidden layer with sigmoid activation\n",
    "        x = F.sigmoid(self.hidden(x))\n",
    "        # Output layer with softmax activation\n",
    "        x = F.softmax(self.output(x), dim=1)\n",
    "        \n",
    "        return x"
   ]
  },
  {
   "cell_type": "markdown",
   "metadata": {},
   "source": [
    "### Activation functions\n",
    "\n",
    "So far we've only been looking at the softmax activation, but in general any function can be used as an activation function. The only requirement is that for a network to approximate a non-linear function, the activation functions must be non-linear. Here are a few more examples of common activation functions: Tanh (hyperbolic tangent), and ReLU (rectified linear unit).\n",
    "\n",
    "<img src=\"assets/activation.png\" width=700px>\n",
    "\n",
    "In practice, the ReLU function is used almost exclusively as the activation function for hidden layers."
   ]
  },
  {
   "cell_type": "markdown",
   "metadata": {},
   "source": [
    "### Your Turn to Build a Network\n",
    "\n",
    "<img src=\"assets/mlp_mnist.png\" width=600px>\n",
    "\n",
    "> **Exercise:** Create a network with 784 input units, a hidden layer with 128 units and a ReLU activation, then a hidden layer with 64 units and a ReLU activation, and finally an output layer with a softmax activation as shown above. You can use a ReLU activation with the `nn.ReLU` module or `F.relu` function."
   ]
  },
  {
   "cell_type": "code",
   "execution_count": 32,
   "metadata": {
    "scrolled": true
   },
   "outputs": [],
   "source": [
    "## Your solution here\n",
    "import torch.nn.functional as F\n",
    "\n",
    "class Network(nn.Module):\n",
    "    def __init__(self):\n",
    "        super().__init__()\n",
    "        \n",
    "        self.hidden1 = nn.Linear(784, 128)\n",
    "        self.hidden2 = nn.Linear(128, 64)\n",
    "        self.output = nn.Linear(64, 10)\n",
    "        \n",
    "    def forward(self, x):\n",
    "        x = F.relu(self.hidden1(x))\n",
    "        x = F.relu(self.hidden2(x))\n",
    "        x = F.softmax(self.output(x), dim=1)\n",
    "        return x"
   ]
  },
  {
   "cell_type": "markdown",
   "metadata": {},
   "source": [
    "### Initializing weights and biases\n",
    "\n",
    "The weights and such are automatically initialized for you, but it's possible to customize how they are initialized. The weights and biases are tensors attached to the layer you defined, you can get them with `model.fc1.weight` for instance."
   ]
  },
  {
   "cell_type": "code",
   "execution_count": 35,
   "metadata": {},
   "outputs": [
    {
     "ename": "AttributeError",
     "evalue": "'Network' object has no attribute 'fc1'",
     "output_type": "error",
     "traceback": [
      "\u001b[0;31m---------------------------------------------------------------------------\u001b[0m",
      "\u001b[0;31mAttributeError\u001b[0m                            Traceback (most recent call last)",
      "\u001b[0;32m<ipython-input-35-59b34e7f797b>\u001b[0m in \u001b[0;36m<module>\u001b[0;34m()\u001b[0m\n\u001b[0;32m----> 1\u001b[0;31m \u001b[0mprint\u001b[0m\u001b[0;34m(\u001b[0m\u001b[0mmodel\u001b[0m\u001b[0;34m.\u001b[0m\u001b[0mfc1\u001b[0m\u001b[0;34m.\u001b[0m\u001b[0mweight\u001b[0m\u001b[0;34m)\u001b[0m\u001b[0;34m\u001b[0m\u001b[0m\n\u001b[0m\u001b[1;32m      2\u001b[0m \u001b[0mprint\u001b[0m\u001b[0;34m(\u001b[0m\u001b[0mmodel\u001b[0m\u001b[0;34m.\u001b[0m\u001b[0mfc1\u001b[0m\u001b[0;34m.\u001b[0m\u001b[0mbias\u001b[0m\u001b[0;34m)\u001b[0m\u001b[0;34m\u001b[0m\u001b[0m\n",
      "\u001b[0;32m/opt/conda/lib/python3.6/site-packages/torch/nn/modules/module.py\u001b[0m in \u001b[0;36m__getattr__\u001b[0;34m(self, name)\u001b[0m\n\u001b[1;32m    530\u001b[0m                 \u001b[0;32mreturn\u001b[0m \u001b[0mmodules\u001b[0m\u001b[0;34m[\u001b[0m\u001b[0mname\u001b[0m\u001b[0;34m]\u001b[0m\u001b[0;34m\u001b[0m\u001b[0m\n\u001b[1;32m    531\u001b[0m         raise AttributeError(\"'{}' object has no attribute '{}'\".format(\n\u001b[0;32m--> 532\u001b[0;31m             type(self).__name__, name))\n\u001b[0m\u001b[1;32m    533\u001b[0m \u001b[0;34m\u001b[0m\u001b[0m\n\u001b[1;32m    534\u001b[0m     \u001b[0;32mdef\u001b[0m \u001b[0m__setattr__\u001b[0m\u001b[0;34m(\u001b[0m\u001b[0mself\u001b[0m\u001b[0;34m,\u001b[0m \u001b[0mname\u001b[0m\u001b[0;34m,\u001b[0m \u001b[0mvalue\u001b[0m\u001b[0;34m)\u001b[0m\u001b[0;34m:\u001b[0m\u001b[0;34m\u001b[0m\u001b[0m\n",
      "\u001b[0;31mAttributeError\u001b[0m: 'Network' object has no attribute 'fc1'"
     ]
    }
   ],
   "source": [
    "print(model.fc1.weight)\n",
    "print(model.fc1.bias)"
   ]
  },
  {
   "cell_type": "markdown",
   "metadata": {},
   "source": [
    "For custom initialization, we want to modify these tensors in place. These are actually autograd *Variables*, so we need to get back the actual tensors with `model.fc1.weight.data`. Once we have the tensors, we can fill them with zeros (for biases) or random normal values."
   ]
  },
  {
   "cell_type": "code",
   "execution_count": 36,
   "metadata": {},
   "outputs": [
    {
     "ename": "AttributeError",
     "evalue": "'Network' object has no attribute 'fc1'",
     "output_type": "error",
     "traceback": [
      "\u001b[0;31m---------------------------------------------------------------------------\u001b[0m",
      "\u001b[0;31mAttributeError\u001b[0m                            Traceback (most recent call last)",
      "\u001b[0;32m<ipython-input-36-7f3924b78efd>\u001b[0m in \u001b[0;36m<module>\u001b[0;34m()\u001b[0m\n\u001b[1;32m      1\u001b[0m \u001b[0;31m# Set biases to all zeros\u001b[0m\u001b[0;34m\u001b[0m\u001b[0;34m\u001b[0m\u001b[0m\n\u001b[0;32m----> 2\u001b[0;31m \u001b[0mmodel\u001b[0m\u001b[0;34m.\u001b[0m\u001b[0mfc1\u001b[0m\u001b[0;34m.\u001b[0m\u001b[0mbias\u001b[0m\u001b[0;34m.\u001b[0m\u001b[0mdata\u001b[0m\u001b[0;34m.\u001b[0m\u001b[0mfill_\u001b[0m\u001b[0;34m(\u001b[0m\u001b[0;36m0\u001b[0m\u001b[0;34m)\u001b[0m\u001b[0;34m\u001b[0m\u001b[0m\n\u001b[0m",
      "\u001b[0;32m/opt/conda/lib/python3.6/site-packages/torch/nn/modules/module.py\u001b[0m in \u001b[0;36m__getattr__\u001b[0;34m(self, name)\u001b[0m\n\u001b[1;32m    530\u001b[0m                 \u001b[0;32mreturn\u001b[0m \u001b[0mmodules\u001b[0m\u001b[0;34m[\u001b[0m\u001b[0mname\u001b[0m\u001b[0;34m]\u001b[0m\u001b[0;34m\u001b[0m\u001b[0m\n\u001b[1;32m    531\u001b[0m         raise AttributeError(\"'{}' object has no attribute '{}'\".format(\n\u001b[0;32m--> 532\u001b[0;31m             type(self).__name__, name))\n\u001b[0m\u001b[1;32m    533\u001b[0m \u001b[0;34m\u001b[0m\u001b[0m\n\u001b[1;32m    534\u001b[0m     \u001b[0;32mdef\u001b[0m \u001b[0m__setattr__\u001b[0m\u001b[0;34m(\u001b[0m\u001b[0mself\u001b[0m\u001b[0;34m,\u001b[0m \u001b[0mname\u001b[0m\u001b[0;34m,\u001b[0m \u001b[0mvalue\u001b[0m\u001b[0;34m)\u001b[0m\u001b[0;34m:\u001b[0m\u001b[0;34m\u001b[0m\u001b[0m\n",
      "\u001b[0;31mAttributeError\u001b[0m: 'Network' object has no attribute 'fc1'"
     ]
    }
   ],
   "source": [
    "# Set biases to all zeros\n",
    "model.fc1.bias.data.fill_(0)"
   ]
  },
  {
   "cell_type": "code",
   "execution_count": 37,
   "metadata": {},
   "outputs": [
    {
     "ename": "AttributeError",
     "evalue": "'Network' object has no attribute 'fc1'",
     "output_type": "error",
     "traceback": [
      "\u001b[0;31m---------------------------------------------------------------------------\u001b[0m",
      "\u001b[0;31mAttributeError\u001b[0m                            Traceback (most recent call last)",
      "\u001b[0;32m<ipython-input-37-51cf007dbb9a>\u001b[0m in \u001b[0;36m<module>\u001b[0;34m()\u001b[0m\n\u001b[1;32m      1\u001b[0m \u001b[0;31m# sample from random normal with standard dev = 0.01\u001b[0m\u001b[0;34m\u001b[0m\u001b[0;34m\u001b[0m\u001b[0m\n\u001b[0;32m----> 2\u001b[0;31m \u001b[0mmodel\u001b[0m\u001b[0;34m.\u001b[0m\u001b[0mfc1\u001b[0m\u001b[0;34m.\u001b[0m\u001b[0mweight\u001b[0m\u001b[0;34m.\u001b[0m\u001b[0mdata\u001b[0m\u001b[0;34m.\u001b[0m\u001b[0mnormal_\u001b[0m\u001b[0;34m(\u001b[0m\u001b[0mstd\u001b[0m\u001b[0;34m=\u001b[0m\u001b[0;36m0.01\u001b[0m\u001b[0;34m)\u001b[0m\u001b[0;34m\u001b[0m\u001b[0m\n\u001b[0m",
      "\u001b[0;32m/opt/conda/lib/python3.6/site-packages/torch/nn/modules/module.py\u001b[0m in \u001b[0;36m__getattr__\u001b[0;34m(self, name)\u001b[0m\n\u001b[1;32m    530\u001b[0m                 \u001b[0;32mreturn\u001b[0m \u001b[0mmodules\u001b[0m\u001b[0;34m[\u001b[0m\u001b[0mname\u001b[0m\u001b[0;34m]\u001b[0m\u001b[0;34m\u001b[0m\u001b[0m\n\u001b[1;32m    531\u001b[0m         raise AttributeError(\"'{}' object has no attribute '{}'\".format(\n\u001b[0;32m--> 532\u001b[0;31m             type(self).__name__, name))\n\u001b[0m\u001b[1;32m    533\u001b[0m \u001b[0;34m\u001b[0m\u001b[0m\n\u001b[1;32m    534\u001b[0m     \u001b[0;32mdef\u001b[0m \u001b[0m__setattr__\u001b[0m\u001b[0;34m(\u001b[0m\u001b[0mself\u001b[0m\u001b[0;34m,\u001b[0m \u001b[0mname\u001b[0m\u001b[0;34m,\u001b[0m \u001b[0mvalue\u001b[0m\u001b[0;34m)\u001b[0m\u001b[0;34m:\u001b[0m\u001b[0;34m\u001b[0m\u001b[0m\n",
      "\u001b[0;31mAttributeError\u001b[0m: 'Network' object has no attribute 'fc1'"
     ]
    }
   ],
   "source": [
    "# sample from random normal with standard dev = 0.01\n",
    "model.fc1.weight.data.normal_(std=0.01)"
   ]
  },
  {
   "cell_type": "markdown",
   "metadata": {},
   "source": [
    "### Forward pass\n",
    "\n",
    "Now that we have a network, let's see what happens when we pass in an image."
   ]
  },
  {
   "cell_type": "code",
   "execution_count": 38,
   "metadata": {},
   "outputs": [
    {
     "data": {
      "image/png": "[encoded data removed]",
      "text/plain": [
       "<matplotlib.figure.Figure at 0x7f9a96c364e0>"
      ]
     },
     "metadata": {
      "image/png": {
       "height": 224,
       "width": 423
      },
      "needs_background": "light"
     },
     "output_type": "display_data"
    }
   ],
   "source": [
    "# Grab some data \n",
    "dataiter = iter(trainloader)\n",
    "images, labels = dataiter.next()\n",
    "\n",
    "# Resize images into a 1D vector, new shape is (batch size, color channels, image pixels) \n",
    "images.resize_(64, 1, 784)\n",
    "# or images.resize_(images.shape[0], 1, 784) to automatically get batch size\n",
    "\n",
    "# Forward pass through the network\n",
    "img_idx = 0\n",
    "ps = model.forward(images[img_idx,:])\n",
    "\n",
    "img = images[img_idx]\n",
    "helper.view_classify(img.view(1, 28, 28), ps)"
   ]
  },
  {
   "cell_type": "markdown",
   "metadata": {},
   "source": [
    "As you can see above, our network has basically no idea what this digit is. It's because we haven't trained it yet, all the weights are random!\n",
    "\n",
    "### Using `nn.Sequential`\n",
    "\n",
    "PyTorch provides a convenient way to build networks like this where a tensor is passed sequentially through operations, `nn.Sequential` ([documentation](https://pytorch.org/docs/master/nn.html#torch.nn.Sequential)). Using this to build the equivalent network:"
   ]
  },
  {
   "cell_type": "code",
   "execution_count": 39,
   "metadata": {},
   "outputs": [
    {
     "name": "stdout",
     "output_type": "stream",
     "text": [
      "Sequential(\n",
      "  (0): Linear(in_features=784, out_features=128, bias=True)\n",
      "  (1): ReLU()\n",
      "  (2): Linear(in_features=128, out_features=64, bias=True)\n",
      "  (3): ReLU()\n",
      "  (4): Linear(in_features=64, out_features=10, bias=True)\n",
      "  (5): Softmax()\n",
      ")\n"
     ]
    },
    {
     "data": {
      "image/png": "[encoded data removed]",
      "text/plain": [
       "<matplotlib.figure.Figure at 0x7f9a39b3e5c0>"
      ]
     },
     "metadata": {
      "image/png": {
       "height": 224,
       "width": 423
      },
      "needs_background": "light"
     },
     "output_type": "display_data"
    }
   ],
   "source": [
    "# Hyperparameters for our network\n",
    "input_size = 784\n",
    "hidden_sizes = [128, 64]\n",
    "output_size = 10\n",
    "\n",
    "# Build a feed-forward network\n",
    "model = nn.Sequential(nn.Linear(input_size, hidden_sizes[0]),\n",
    "                      nn.ReLU(),\n",
    "                      nn.Linear(hidden_sizes[0], hidden_sizes[1]),\n",
    "                      nn.ReLU(),\n",
    "                      nn.Linear(hidden_sizes[1], output_size),\n",
    "                      nn.Softmax(dim=1))\n",
    "print(model)\n",
    "\n",
    "# Forward pass through the network and display output\n",
    "images, labels = next(iter(trainloader))\n",
    "images.resize_(images.shape[0], 1, 784)\n",
    "ps = model.forward(images[0,:])\n",
    "helper.view_classify(images[0].view(1, 28, 28), ps)"
   ]
  },
  {
   "cell_type": "markdown",
   "metadata": {},
   "source": [
    "Here our model is the same as before: 784 input units, a hidden layer with 128 units, ReLU activation, 64 unit hidden layer, another ReLU, then the output layer with 10 units, and the softmax output.\n",
    "\n",
    "The operations are availble by passing in the appropriate index. For example, if you want to get first Linear operation and look at the weights, you'd use `model[0]`."
   ]
  },
  {
   "cell_type": "code",
   "execution_count": null,
   "metadata": {
    "collapsed": true
   },
   "outputs": [],
   "source": [
    "print(model[0])\n",
    "model[0].weight"
   ]
  },
  {
   "cell_type": "markdown",
   "metadata": {},
   "source": [
    "You can also pass in an `OrderedDict` to name the individual layers and operations, instead of using incremental integers. Note that dictionary keys must be unique, so _each operation must have a different name_."
   ]
  },
  {
   "cell_type": "code",
   "execution_count": null,
   "metadata": {
    "collapsed": true
   },
   "outputs": [],
   "source": [
    "from collections import OrderedDict\n",
    "model = nn.Sequential(OrderedDict([\n",
    "                      ('fc1', nn.Linear(input_size, hidden_sizes[0])),\n",
    "                      ('relu1', nn.ReLU()),\n",
    "                      ('fc2', nn.Linear(hidden_sizes[0], hidden_sizes[1])),\n",
    "                      ('relu2', nn.ReLU()),\n",
    "                      ('output', nn.Linear(hidden_sizes[1], output_size)),\n",
    "                      ('softmax', nn.Softmax(dim=1))]))\n",
    "model"
   ]
  },
  {
   "cell_type": "markdown",
   "metadata": {},
   "source": [
    "Now you can access layers either by integer or the name"
   ]
  },
  {
   "cell_type": "code",
   "execution_count": null,
   "metadata": {
    "collapsed": true
   },
   "outputs": [],
   "source": [
    "print(model[0])\n",
    "print(model.fc1)"
   ]
  },
  {
   "cell_type": "markdown",
   "metadata": {},
   "source": [
    "In the next notebook, we'll see how we can train a neural network to accuractly predict the numbers appearing in the MNIST images."
   ]
  }
 ],
 "metadata": {
  "kernelspec": {
   "display_name": "Python 3",
   "language": "python",
   "name": "python3"
  },
  "language_info": {
   "codemirror_mode": {
    "name": "ipython",
    "version": 3
   },
   "file_extension": ".py",
   "mimetype": "text/x-python",
   "name": "python",
   "nbconvert_exporter": "python",
   "pygments_lexer": "ipython3",
   "version": "3.6.3"
  }
 },
 "nbformat": 4,
 "nbformat_minor": 2
}
